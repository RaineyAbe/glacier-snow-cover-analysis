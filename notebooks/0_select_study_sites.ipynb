{
 "cells": [
  {
   "cell_type": "markdown",
   "id": "7ab4884e",
   "metadata": {
    "id": "1d820d5f-e3fc-4808-b317-093d1a664a70"
   },
   "source": [
    "# Select study sites using the distribution of RGI glacier areas\n"
   ]
  },
  {
   "cell_type": "code",
   "execution_count": 1,
   "id": "7b386b21",
   "metadata": {
    "id": "cfa3a8d0-9e9e-4b47-a52d-646f70e5c200",
    "outputId": "59b1101a-bb8a-48dc-d22b-67eb1e7f22b9"
   },
   "outputs": [],
   "source": [
    "import pandas as pd\n",
    "import geopandas as gpd\n",
    "import numpy as np\n",
    "import matplotlib.pyplot as plt\n",
    "import os\n",
    "import sys\n",
    "import seaborn as sns\n",
    "import warnings\n",
    "warnings.filterwarnings('ignore')"
   ]
  },
  {
   "cell_type": "markdown",
   "id": "989ee908-4af5-4f94-a13b-33bf1e460760",
   "metadata": {},
   "source": [
    "## Define paths in directory"
   ]
  },
  {
   "cell_type": "code",
   "execution_count": null,
   "id": "1222dcd3",
   "metadata": {
    "id": "1041bad1-4cd7-4096-9f87-7223dc785867"
   },
   "outputs": [],
   "source": [
    "# path to all RGI O1 and O2 outlines\n",
    "RGI_path = '/Volumes/LaCie/raineyaberle/Research/PhD/GIS_data/RGI/'\n",
    "# RGI shapefile names\n",
    "RGI_fns = ['01_rgi60_Alaska/01_rgi60_Alaska.shp',\n",
    "           '02_rgi60_WesternCanadaUS/02_rgi60_WesternCanadaUS.shp']\n",
    "# path to glacier-snow-cover-analysis\n",
    "code_path = '/Users/raineyaberle/Research/PhD/snow_cover_mapping/glacier-snow-cover-analysis/'\n",
    "# where to save selected glacier shapefiles\n",
    "study_sites_path = '/Volumes/LaCie/raineyaberle/Research/PhD/snow_cover_mapping/study-sites/'\n",
    "\n",
    "# Load necessary functions\n",
    "sys.path.insert(1, os.path.join(code_path, 'functions'))\n",
    "import utils as f\n"
   ]
  },
  {
   "cell_type": "markdown",
   "id": "5bc2fe65-3ff0-4206-997f-611d92e034aa",
   "metadata": {},
   "source": [
    "## Load all RGI O1 and O2 glacier outlines"
   ]
  },
  {
   "cell_type": "code",
   "execution_count": null,
   "id": "93179432-c030-407b-94f7-a06a77765214",
   "metadata": {},
   "outputs": [],
   "source": [
    "# Create geopandas.DataFrame for storing RGIs\n",
    "RGI = gpd.GeoDataFrame()\n",
    "# Read RGI files\n",
    "for RGI_fn in RGI_fns:\n",
    "    file = gpd.read_file(os.path.join(RGI_path, RGI_fn))\n",
    "    RGI = pd.concat([RGI, file])\n",
    "RGI[['O1Region', 'O2Region']] = RGI[['O1Region', 'O2Region']].astype(int)\n",
    "RGI = RGI.sort_values(by=['O1Region', 'O2Region']).reset_index(drop=True)\n",
    "\n",
    "# Grab list of all unique regions and subregions in dataset\n",
    "unique_subregion_counts = RGI[['O1Region', 'O2Region']].value_counts().reset_index(name='count')\n",
    "unique_subregion_counts = unique_subregion_counts.sort_values(by=['O1Region', 'O2Region']).reset_index(drop=True)\n",
    "unique_subregions = unique_subregion_counts[['O1Region', 'O2Region']].values\n",
    "# Add column for subregion name\n",
    "RGI['Subregion'] = ''\n",
    "for o1region, o2region in unique_subregions:\n",
    "    subregion_name, color = f.determine_subregion_name_color(o1region, o2region)\n",
    "    RGI.loc[(RGI['O1Region']==o1region) & (RGI['O2Region']==o2region), 'Subregion'] = subregion_name\n",
    "unique_subregion_counts"
   ]
  },
  {
   "cell_type": "code",
   "execution_count": null,
   "id": "1a2bf516-e6b4-49f1-b102-15020a385103",
   "metadata": {
    "scrolled": true
   },
   "outputs": [],
   "source": [
    "# Load AOIs for all completed sites\n",
    "aois_fn = os.path.join(study_sites_path, '..', 'analysis', 'AOIs.gpkg') \n",
    "aois = gpd.read_file(aois_fn)\n",
    "cols = ['O1Region', 'O2Region', 'Aspect', 'Slope', 'Area']\n",
    "for col in cols:\n",
    "    aois[col] = aois[col].astype(float)\n",
    "# add subregion column\n",
    "for i in range(0,len(aois)):\n",
    "    o1region, o2region = aois.loc[i, ['O1Region', 'O2Region']].values\n",
    "    aois.loc[i, 'Subregion'] = f.determine_subregion_name_color(o1region, o2region)[0]\n",
    "\n",
    "aois"
   ]
  },
  {
   "cell_type": "markdown",
   "id": "ece3b701-24a5-46cb-8227-63cb732e7d99",
   "metadata": {},
   "source": [
    "## Plot distribution of terrain parameters for all glaciers and analyzed glaciers"
   ]
  },
  {
   "cell_type": "code",
   "execution_count": null,
   "id": "bcc0a22a-bec7-4dcf-b7f7-80692b8e7aff",
   "metadata": {},
   "outputs": [],
   "source": [
    "# Define columns and bins\n",
    "columns = ['Aspect', 'Slope', 'Area', 'Subregion']\n",
    "xlabels = ['Aspect [degrees]', 'Slope [degrees]', 'Area [km$^2$]', 'Subregion']\n",
    "color = '#993404' #['#00441b', '#993404', '#4d004b', '#08306b']\n",
    "bins = [np.linspace(0, 361, num=20),\n",
    "        np.linspace(0, 51, num=20),\n",
    "        [0, 10, 50, 100, 500, 1000, 5000],\n",
    "        np.arange(0,len(unique_subregions))]\n",
    "\n",
    "# Plot\n",
    "fig, ax = plt.subplots(2, 2, figsize=(12,12))\n",
    "ax = ax.flatten()\n",
    "# iterate over columns\n",
    "for column, xlabel, bin, i in list(zip(columns, xlabels, bins, np.arange(0,len(columns)) )):\n",
    "    if column=='Subregion':\n",
    "        sns.histplot(data=RGI, x=column, facecolor='grey', ax=ax[i])\n",
    "        ax2 = ax[i].twinx()\n",
    "        sns.histplot(data=aois, x=column, facecolor=color, alpha=0.5, ax=ax2)\n",
    "        ax[i].set_xticks(np.arange(0,len(unique_subregions)))\n",
    "        ax[i].set_xticklabels(RGI['Subregion'].drop_duplicates().values, rotation=90)\n",
    "    else:\n",
    "        sns.histplot(data=RGI, x=column, facecolor='grey', bins=bin, ax=ax[i])\n",
    "        ax2 = ax[i].twinx()\n",
    "        sns.histplot(data=aois, x=column, facecolor=color, alpha=0.5, bins=bin, ax=ax2)\n",
    "    if column=='Area':\n",
    "        ax[i].set_xscale('log')\n",
    "    ax[i].set_yticks(ax[i].get_yticks())\n",
    "    ax[i].set_yticklabels(ax[i].get_yticklabels(), color='grey')\n",
    "    ax[i].set_xlabel(xlabel)\n",
    "    ax[i].set_ylabel('')\n",
    "    ax2.set_ylabel('')\n",
    "    ax2.set_ylim(0, ax2.get_ylim()[1]*2)\n",
    "    ax2.set_yticks(ax2.get_yticks())\n",
    "    ax2.set_yticklabels(ax2.get_yticklabels(), color=color)\n",
    "    ax2.spines['right'].set_color(color)\n",
    "\n",
    "fig.subplots_adjust(wspace=0.4)\n",
    "plt.show()"
   ]
  },
  {
   "cell_type": "markdown",
   "id": "5cecaf34-063d-41c6-a5bf-29edebfe0d3e",
   "metadata": {},
   "source": [
    "## Plot distributions by subregion"
   ]
  },
  {
   "cell_type": "code",
   "execution_count": null,
   "id": "dd5f04d1-734f-4e1f-afa9-1f1f90481105",
   "metadata": {},
   "outputs": [],
   "source": [
    "subregions = aois['Subregion'].drop_duplicates().values\n",
    "columns = ['Aspect', 'Slope', 'Area']\n",
    "xlabels = ['Aspect [degrees]', 'Slope [degrees]', 'Area [km$^2$]']\n",
    "bins_list = [np.linspace(0, 361, num=20),\n",
    "             np.linspace(0, 51, num=20),\n",
    "             np.linspace(0, 300, num=20),\n",
    "             np.arange(0,len(unique_subregions))]\n",
    "\n",
    "# Set up figures\n",
    "plt.rcParams.update({'font.sans-serif': 'Arial', 'font.size': 12})\n",
    "fig, ax = plt.subplots(len(subregions), 3, figsize=(10, len(subregions)*2))\n",
    "\n",
    "for i, subregion in enumerate(subregions):\n",
    "    # Subset glaciers\n",
    "    aois_subregion = aois.loc[aois['Subregion']==subregion]\n",
    "    RGI_subregion = RGI.loc[RGI['Subregion']==subregion]\n",
    "\n",
    "    # Plot all glaciers in subregion\n",
    "    for j, (column, xlabel, bins) in enumerate(zip(columns, xlabels, bins_list)):\n",
    "        ax[i,j].hist(RGI_subregion[column].values, bins=bins, facecolor='k', alpha=0.6)\n",
    "        if j==0:\n",
    "            ax[i,j].set_ylabel(subregion)\n",
    "        aois_color = '#b35806'\n",
    "        ax2 = ax[i,j].twinx()\n",
    "        ax2.hist(aois_subregion[column].values, bins=bins, facecolor=aois_color, alpha=0.6)\n",
    "        ax2.set_yticks(ax2.get_yticks())\n",
    "        ax2.set_yticklabels(ax2.get_yticklabels(), color=aois_color)\n",
    "        ax2.spines['right'].set_color(aois_color)\n",
    "        ax2.tick_params(axis='y', color=aois_color)\n",
    "        if i==0:\n",
    "            ax[i,j].set_title(xlabel)\n",
    "\n",
    "fig.tight_layout()\n",
    "plt.show()"
   ]
  },
  {
   "cell_type": "markdown",
   "id": "804b620a-0962-4c2b-86d9-48289b2c8fbf",
   "metadata": {},
   "source": [
    "## Pick some sites based on distributions (done)"
   ]
  },
  {
   "cell_type": "code",
   "execution_count": null,
   "id": "90881719-cddf-4975-b6d4-d4ed7322d86a",
   "metadata": {
    "scrolled": true
   },
   "outputs": [],
   "source": [
    "subregion = 'N. Cascades'\n",
    "# completed sites in subregion\n",
    "aois_subregion = aois.loc[aois['Subregion']==subregion]\n",
    "o1region = aois_subregion['O1Region'].values[0]\n",
    "o2region = aois_subregion['O2Region'].values[0]\n",
    "RGI[['O1Region', 'O2Region']] = RGI[['O1Region', 'O2Region']].astype(int)\n",
    "rgi_subregion = RGI.loc[(RGI['O1Region']==o1region) & (RGI['O2Region']==o2region)]\n",
    "# NOT completed sites\n",
    "site_names_not_done = [x for x in rgi_subregion['RGIId'].values if x not in aois_subregion['RGIId'].values]\n",
    "rgi_not_dones = pd.DataFrame()\n",
    "for site_name in site_names_not_done:\n",
    "    rgi_not_done = rgi_subregion.loc[rgi_subregion['RGIId']==site_name]\n",
    "    rgi_not_dones = pd.concat([rgi_not_dones, rgi_not_done])\n",
    "rgi_not_dones.reset_index(drop=True, inplace=True)\n",
    "rgi_not_dones"
   ]
  },
  {
   "cell_type": "code",
   "execution_count": null,
   "id": "fe44b8f9-8ed8-45bb-ab4d-e359e50d8bab",
   "metadata": {
    "scrolled": true
   },
   "outputs": [],
   "source": [
    "# Plot distributions for a single region\n",
    "# subregion = 'N. Cascades'\n",
    "\n",
    "RGI_subregion = RGI.loc[RGI['Subregion']==subregion]\n",
    "AOIs_subregion = aois.loc[aois['Subregion']==subregion]\n",
    "\n",
    "columns = ['Aspect', 'Slope', 'Area']\n",
    "xlabels = ['Aspect [degrees]', 'Slope [degrees]', 'Area [km$^2$]']\n",
    "colors = ['#00441b', '#993404', '#4d004b']\n",
    "bins = [np.linspace(0, 361, num=12),\n",
    "        np.linspace(0, 51, num=12),\n",
    "        np.linspace(0, np.nanmax(RGI_subregion['Area']), num=12)]\n",
    "fig, ax = plt.subplots(1, 3, figsize=(18,6))\n",
    "# iterate over columns\n",
    "for column, xlabel, color, bin, i in list(zip(columns, xlabels, colors, bins, np.arange(0,len(columns)) )):\n",
    "    bin_centers = [(bin[j+1] + bin[j])/2 for j in np.arange(0, len(bin)-1)]\n",
    "    RGI_counts = np.zeros(len(bin_centers))\n",
    "    AOI_counts = np.zeros(len(bin_centers))\n",
    "    # iterate over bins\n",
    "    for j in np.arange(0,len(bin)-1):\n",
    "        # determine RGI outlines in aspect bin\n",
    "        RGI_bin = RGI_subregion.loc[(RGI_subregion[column] >= bin[j]) & (RGI_subregion[column] < bin[j+1])]\n",
    "        RGI_counts[j] = len(RGI_bin)\n",
    "        # determine completed sites in aspect bin\n",
    "        AOI_bin = AOIs_subregion.loc[(AOIs_subregion[column] >= bin[j]) & (AOIs_subregion[column] < bin[j+1])]\n",
    "        AOI_counts[j] = len(AOI_bin)\n",
    "    # plot\n",
    "    ax[i].bar(bin_centers, RGI_counts, width=(bin[1]-bin[0]), facecolor=color, edgecolor='white', alpha=0.5)\n",
    "    ax2 = ax[i].twinx()\n",
    "    ax2.bar(bin_centers, AOI_counts, width=(bin[1]-bin[0]), facecolor=color, edgecolor='white')\n",
    "    ax[i].set_yticks(ax[i].get_yticks())\n",
    "    ax[i].set_yticklabels(ax[i].get_yticklabels(), color=color, alpha=0.5)\n",
    "    ax[i].set_xlabel(xlabel)\n",
    "    ax2.set_ylim(0, np.nanmax(AOI_counts)*3)\n",
    "    ax2.set_yticks(ax2.get_yticks())\n",
    "    ax2.set_yticklabels(ax2.get_yticklabels(), color=color)\n",
    "\n",
    "plt.show()"
   ]
  },
  {
   "cell_type": "code",
   "execution_count": null,
   "id": "f1266faa-0c0d-4391-a422-e9130dda86ab",
   "metadata": {
    "scrolled": true
   },
   "outputs": [],
   "source": [
    "subset = RGI_subregion.loc[(RGI_subregion['Aspect'] > 150) & (RGI_subregion['Aspect'] < 250) \n",
    "                            & (RGI_subregion['Slope'] > 15)\n",
    "                            & (RGI_subregion['Area'] < 50) & (RGI_subregion['Area'] > 10)]\n",
    "subset.reset_index(drop=True, inplace=True)\n",
    "# check if already completed\n",
    "Idrop = [i for i in np.arange(0,len(subset)) if subset.iloc[i]['RGIId'] in aois['RGIId'].values]\n",
    "if len(Idrop)>0:\n",
    "    subset = subset.drop(index=Idrop)\n",
    "subset[['RGIId', 'Aspect', 'Slope', 'Area', 'Subregion']].reset_index(drop=True)\n"
   ]
  },
  {
   "cell_type": "code",
   "execution_count": null,
   "id": "3e5f7d28-8730-4fda-b62b-9f9f68ad37ef",
   "metadata": {},
   "outputs": [],
   "source": [
    "ids = ['RGI60-01.00032', 'RGI60-01.00033','RGI60-01.12347', 'RGI60-01.15719', 'RGI60-01.19783', \n",
    "      'RGI60-01.22207', 'RGI60-01.12355', 'RGI60-01.22204', 'RGI60-01.23094']\n",
    "for id in ids:\n",
    "    print(id)\n",
    "    RGI_site = RGI.loc[RGI['RGIId']==id]\n",
    "    RGI_site.plot()\n",
    "    plt.show()\n",
    "    # check if folder already exists in study_sites_path\n",
    "    site_path = os.path.join(study_sites_path, id)\n",
    "    if not os.path.exists(site_path):\n",
    "        # make directories\n",
    "        os.mkdir(site_path)\n",
    "        print('Made directory: ' + site_path)\n",
    "    AOI_path = os.path.join(study_sites_path, id, 'AOIs')\n",
    "    if not os.path.exists(AOI_path):\n",
    "        os.mkdir(AOI_path)\n",
    "        print('Made directory: ' + AOI_path)\n",
    "    if not os.path.exists(os.path.join(site_path, 'imagery')):\n",
    "        os.mkdir(os.path.join(site_path, 'imagery'))\n",
    "    # save shapefile\n",
    "    RGI_site.reset_index(drop=True, inplace=True)\n",
    "    AOI_fn = id + '_outline.shp'\n",
    "    RGI_site.to_file(os.path.join(AOI_path, AOI_fn), index=False)\n",
    "    print('Glacier boundary saved to file')\n",
    "    print(' ')"
   ]
  },
  {
   "cell_type": "code",
   "execution_count": null,
   "id": "32ec5776-cd04-4c9d-a291-9ef57c9c65e6",
   "metadata": {},
   "outputs": [],
   "source": []
  }
 ],
 "metadata": {
  "colab": {
   "provenance": []
  },
  "kernelspec": {
   "display_name": "gsca_env",
   "language": "python",
   "name": "python3"
  },
  "language_info": {
   "codemirror_mode": {
    "name": "ipython",
    "version": 3
   },
   "file_extension": ".py",
   "mimetype": "text/x-python",
   "name": "python",
   "nbconvert_exporter": "python",
   "pygments_lexer": "ipython3",
   "version": "3.11.11"
  }
 },
 "nbformat": 4,
 "nbformat_minor": 5
}
