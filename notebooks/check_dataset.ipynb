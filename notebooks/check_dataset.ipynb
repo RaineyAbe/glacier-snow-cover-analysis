{
 "cells": [
  {
   "cell_type": "markdown",
   "metadata": {},
   "source": [
    "# Check data structures and attributes for all dataset files"
   ]
  },
  {
   "cell_type": "code",
   "execution_count": null,
   "metadata": {},
   "outputs": [],
   "source": [
    "import os\n",
    "import glob\n",
    "import xarray as xr\n",
    "import geopandas as gpd\n",
    "import pandas as pd\n",
    "import json\n",
    "from tqdm import tqdm"
   ]
  },
  {
   "cell_type": "code",
   "execution_count": null,
   "metadata": {},
   "outputs": [],
   "source": [
    "# Define path to dataset\n",
    "data_path = '/Volumes/LaCie/raineyaberle/Research/PhD/snow_cover_mapping/dataset'"
   ]
  },
  {
   "cell_type": "code",
   "execution_count": null,
   "metadata": {},
   "outputs": [],
   "source": [
    "### AOIs\n",
    "aois_fn = os.path.join(data_path, 'analysis', 'AOIs.gpkg')\n",
    "aois = gpd.read_file(aois_fn)\n",
    "print('Longitude range:', aois['CenLon'].min(), aois['CenLon'].max())\n",
    "print('Latitude range:', aois['CenLat'].min(), aois['CenLat'].max())\n",
    "aois"
   ]
  },
  {
   "cell_type": "markdown",
   "metadata": {},
   "source": [
    "## Analyses"
   ]
  },
  {
   "cell_type": "code",
   "execution_count": null,
   "metadata": {},
   "outputs": [],
   "source": [
    "## Climate clusters\n",
    "clusters_fn = os.path.join(data_path, 'analysis', 'climate_clusters.csv')\n",
    "clusters = pd.read_csv(clusters_fn)\n",
    "clusters"
   ]
  },
  {
   "cell_type": "code",
   "execution_count": null,
   "metadata": {},
   "outputs": [],
   "source": [
    "## Median snow cover stats\n",
    "scs_mc_fn = os.path.join(data_path, 'analysis', 'median_snow_cover_stats_MC.nc')\n",
    "scs_mc = xr.open_dataset(scs_mc_fn)\n",
    "scs_mc"
   ]
  },
  {
   "cell_type": "code",
   "execution_count": null,
   "metadata": {},
   "outputs": [],
   "source": [
    "## melt season timing\n",
    "ms_timing_fn = os.path.join(data_path, 'analysis', 'melt_season_timing.csv')\n",
    "ms_timing = pd.read_csv(ms_timing_fn)\n",
    "ms_timing"
   ]
  },
  {
   "cell_type": "code",
   "execution_count": null,
   "metadata": {},
   "outputs": [],
   "source": [
    "## minimum snow cover stats\n",
    "min_scs_fn = os.path.join(data_path, 'analysis', 'minimum_snow_cover_stats.csv')\n",
    "min_scs = pd.read_csv(min_scs_fn)\n",
    "min_scs"
   ]
  },
  {
   "cell_type": "code",
   "execution_count": null,
   "metadata": {},
   "outputs": [],
   "source": [
    "## observed/modeled snowline/SMB comparison\n",
    "slas_elas_fn = os.path.join(data_path, 'analysis', 'monthly_SLAs_annual_ELAs_observed_modeled.nc')\n",
    "slas_elas = xr.load_dataset(slas_elas_fn)\n",
    "slas_elas"
   ]
  },
  {
   "cell_type": "code",
   "execution_count": null,
   "metadata": {},
   "outputs": [],
   "source": [
    "# PyGEM summary statistics\n",
    "summary_fn = os.path.join(data_path, 'analysis', \"PyGEM_comparison_summary.nc\")\n",
    "summary = xr.open_dataset(summary_fn)\n",
    "summary"
   ]
  },
  {
   "cell_type": "code",
   "execution_count": null,
   "metadata": {},
   "outputs": [],
   "source": [
    "# PyGEM summary\n",
    "pygem_summary_fn = os.path.join(data_path, 'analysis', 'PyGEM_comparison_summary.nc')\n",
    "pygem_summary = xr.open_dataset(pygem_summary_fn)\n",
    "pygem_summary"
   ]
  },
  {
   "cell_type": "markdown",
   "metadata": {},
   "source": [
    "## Classifications"
   ]
  },
  {
   "cell_type": "code",
   "execution_count": null,
   "metadata": {},
   "outputs": [],
   "source": [
    "# Classifications\n",
    "rgi_ids = aois['RGIId'].drop_duplicates().values\n",
    "rgi_id = rgi_ids[0]\n",
    "classifications_fn = os.path.join(data_path, 'classifications', f\"{rgi_id}_classifications.zarr\")\n",
    "ds = xr.open_zarr(classifications_fn)\n",
    "ds"
   ]
  }
 ],
 "metadata": {
  "kernelspec": {
   "display_name": "gsca",
   "language": "python",
   "name": "gsca"
  },
  "language_info": {
   "codemirror_mode": {
    "name": "ipython",
    "version": 3
   },
   "file_extension": ".py",
   "mimetype": "text/x-python",
   "name": "python",
   "nbconvert_exporter": "python",
   "pygments_lexer": "ipython3",
   "version": "3.11.11"
  }
 },
 "nbformat": 4,
 "nbformat_minor": 4
}
