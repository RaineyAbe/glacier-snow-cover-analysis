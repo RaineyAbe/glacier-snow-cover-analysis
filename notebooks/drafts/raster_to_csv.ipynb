{
 "cells": [
  {
   "cell_type": "code",
   "execution_count": null,
   "id": "2e29d1ff",
   "metadata": {},
   "outputs": [],
   "source": [
    "import rioxarray as rxr\n",
    "import xarray as xr\n",
    "import pandas as pd\n",
    "import os\n",
    "import numpy as np"
   ]
  },
  {
   "cell_type": "code",
   "execution_count": null,
   "id": "a3970456",
   "metadata": {},
   "outputs": [],
   "source": [
    "data_path = '/Volumes/LaCie/raineyaberle/Research/PhD/SkySat-Stereo/study-sites/ID-MCS/'\n",
    "\n",
    "refdem_fn = os.path.join(data_path, 'refdem', 'MCS_REFDEM_WGS84_ROADS-ONLY.tif')\n",
    "refdem = rxr.open_rasterio(refdem_fn).squeeze()\n",
    "refdem = refdem.rio.reproject('EPSG:4326')\n",
    "refdem = xr.where(refdem < 0, np.nan, refdem)\n",
    "\n",
    "x_mesh, y_mesh = np.meshgrid(refdem.x.values, refdem.y.values)\n",
    "x_list = x_mesh.ravel()\n",
    "y_list = y_mesh.ravel()\n",
    "elevations = refdem.data.ravel()\n",
    "\n",
    "df = pd.DataFrame({'x': x_list,\n",
    "                   'y': y_list,\n",
    "                   'z': elevations})\n",
    "df.dropna(inplace=True)\n",
    "\n",
    "df = df.iloc[::10]\n",
    "df.reset_index(drop=True, inplace=True)\n",
    "\n",
    "out_fn = os.path.splitext(refdem_fn)[0] + '.csv'\n",
    "df.to_csv(out_fn, index=False)\n",
    "print('CSV saved to file:', out_fn)"
   ]
  },
  {
   "cell_type": "code",
   "execution_count": null,
   "id": "a007ae82",
   "metadata": {},
   "outputs": [],
   "source": []
  }
 ],
 "metadata": {
  "kernelspec": {
   "display_name": "gsca",
   "language": "python",
   "name": "python3"
  },
  "language_info": {
   "codemirror_mode": {
    "name": "ipython",
    "version": 3
   },
   "file_extension": ".py",
   "mimetype": "text/x-python",
   "name": "python",
   "nbconvert_exporter": "python",
   "pygments_lexer": "ipython3",
   "version": "3.11.11"
  }
 },
 "nbformat": 4,
 "nbformat_minor": 5
}
