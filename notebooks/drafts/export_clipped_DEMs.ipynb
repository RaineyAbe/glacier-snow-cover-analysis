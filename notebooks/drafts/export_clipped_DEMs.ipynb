{
 "cells": [
  {
   "cell_type": "markdown",
   "id": "3eaa9491",
   "metadata": {},
   "source": [
    "# Export clipped DEMs"
   ]
  },
  {
   "cell_type": "code",
   "execution_count": 3,
   "id": "a411e68c",
   "metadata": {},
   "outputs": [],
   "source": [
    "import ee\n",
    "\n",
    "ee.Initialize()"
   ]
  },
  {
   "cell_type": "code",
   "execution_count": 9,
   "id": "57c874db",
   "metadata": {},
   "outputs": [],
   "source": [
    "# Load geometry\n",
    "# DCEW\n",
    "# name = 'Dry Creek'\n",
    "# geom = ee.FeatureCollection(\"USGS/WBD/2017/HUC10\").filter(ee.Filter.eq('system:index', '000200000000000004c2'))\n",
    "# Banner Summit\n",
    "name = 'Canyon Creek-South Fork Payette River'\n",
    "placeName = 'CanyonCreek_Banner'\n",
    "geom = ee.FeatureCollection(\"USGS/WBD/2017/HUC10\").filter(ee.Filter.eq('system:index', '00020000000000000454'))\n",
    "res = 30\n",
    "crs = \"EPSG:32611\"\n",
    "\n",
    "# Load DEM\n",
    "# dem_name = 'ArcticDEM'\n",
    "dem_name = 'NASADEM'\n",
    "if dem_name == 'ArcticDEM':\n",
    "    DEM = ee.ImageCollection(\"UMN/PGC/ArcticDEM/V3/2m_mosaic\")\n",
    "elif dem_name == 'NASADEM':\n",
    "    DEM = ee.Image(\"NASA/NASADEM_HGT/001\")\n",
    "DEM = DEM.select('elevation').clip(geom)\n",
    "\n",
    "# Export to Drive\n",
    "task = ee.batch.Export.image.toDrive(\n",
    "    image = DEM,\n",
    "    description = dem_name + '_' + placeName,\n",
    "    crs = crs,\n",
    "    scale = res,\n",
    "    region = geom.geometry(),\n",
    "    folder = 'DEMto3D'\n",
    ")\n",
    "task.start()"
   ]
  },
  {
   "cell_type": "markdown",
   "id": "92bedfe4",
   "metadata": {},
   "source": []
  }
 ],
 "metadata": {
  "kernelspec": {
   "display_name": "gsca_env",
   "language": "python",
   "name": "python3"
  },
  "language_info": {
   "codemirror_mode": {
    "name": "ipython",
    "version": 3
   },
   "file_extension": ".py",
   "mimetype": "text/x-python",
   "name": "python",
   "nbconvert_exporter": "python",
   "pygments_lexer": "ipython3",
   "version": "3.11.11"
  }
 },
 "nbformat": 4,
 "nbformat_minor": 5
}
