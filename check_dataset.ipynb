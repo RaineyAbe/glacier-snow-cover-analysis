{
 "cells": [
  {
   "cell_type": "markdown",
   "metadata": {},
   "source": [
    "# Test dataset files"
   ]
  },
  {
   "cell_type": "code",
   "execution_count": null,
   "metadata": {},
   "outputs": [],
   "source": [
    "import os\n",
    "import xarray as xr\n",
    "import geopandas as gpd\n",
    "import pandas as pd"
   ]
  },
  {
   "cell_type": "code",
   "execution_count": null,
   "metadata": {},
   "outputs": [],
   "source": [
    "scm_path = '/Volumes/LaCie/raineyaberle/Research/PhD/snow_cover_mapping'\n",
    "out_path = os.path.join(scm_path, 'analysis')"
   ]
  },
  {
   "cell_type": "code",
   "execution_count": null,
   "metadata": {},
   "outputs": [],
   "source": [
    "### AOIs\n",
    "aois_fn = os.path.join(out_path, 'AOIs.gpkg')\n",
    "aois = gpd.read_file(aois_fn)\n",
    "print('Longitude range:', aois['CenLon'].min(), aois['CenLon'].max())\n",
    "print('Latitude range:', aois['CenLat'].min(), aois['CenLat'].max())\n",
    "aois"
   ]
  },
  {
   "cell_type": "code",
   "execution_count": null,
   "metadata": {},
   "outputs": [],
   "source": [
    "## Climate clusters\n",
    "clusters_fn = os.path.join(out_path, 'climate_clusters.csv')\n",
    "clusters = pd.read_csv(clusters_fn)\n",
    "clusters"
   ]
  },
  {
   "cell_type": "code",
   "execution_count": null,
   "metadata": {},
   "outputs": [],
   "source": [
    "## Median snow cover stats\n",
    "scs_mc_fn = os.path.join(out_path, 'median_snow_cover_stats_MC.nc')\n",
    "scs_mc = xr.load_dataset(scs_mc_fn)\n",
    "scs_mc"
   ]
  },
  {
   "cell_type": "code",
   "execution_count": null,
   "metadata": {},
   "outputs": [],
   "source": [
    "## melt season timing\n",
    "ms_timing_fn = os.path.join(out_path, 'melt_season_timing.csv')\n",
    "ms_timing = pd.read_csv(ms_timing_fn)\n",
    "ms_timing"
   ]
  },
  {
   "cell_type": "code",
   "execution_count": null,
   "metadata": {},
   "outputs": [],
   "source": [
    "## minimum snow cover stats\n",
    "min_scs_fn = os.path.join(out_path, 'minimum_snow_cover_stats.csv')\n",
    "min_scs = pd.read_csv(min_scs_fn)\n",
    "min_scs"
   ]
  },
  {
   "cell_type": "code",
   "execution_count": null,
   "metadata": {},
   "outputs": [],
   "source": [
    "## observed/modeled snowline/SMB comparison\n",
    "slas_elas_fn = os.path.join(out_path, 'monthly_SLAs_annual_ELAs_observed_modeled.nc')\n",
    "slas_elas = xr.load_dataset(slas_elas_fn)\n",
    "slas_elas"
   ]
  },
  {
   "cell_type": "code",
   "execution_count": null,
   "metadata": {},
   "outputs": [],
   "source": [
    "## SLA uncertainty analysis\n",
    "sla_unc_fn = os.path.join(out_path, 'SLA_uncertainty_analysis.csv')\n",
    "sla_unc = pd.read_csv(sla_unc_fn)\n",
    "sla_unc"
   ]
  },
  {
   "cell_type": "code",
   "execution_count": null,
   "metadata": {},
   "outputs": [],
   "source": []
  }
 ],
 "metadata": {
  "kernelspec": {
   "display_name": "gsca_env",
   "language": "python",
   "name": "python3"
  },
  "language_info": {
   "codemirror_mode": {
    "name": "ipython",
    "version": 3
   },
   "file_extension": ".py",
   "mimetype": "text/x-python",
   "name": "python",
   "nbconvert_exporter": "python",
   "pygments_lexer": "ipython3",
   "version": "3.11.11"
  }
 },
 "nbformat": 4,
 "nbformat_minor": 2
}
